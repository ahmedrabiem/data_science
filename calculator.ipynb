{
 "cells": [
  {
   "cell_type": "code",
   "execution_count": 1,
   "id": "7dcb2982",
   "metadata": {},
   "outputs": [
    {
     "name": "stdout",
     "output_type": "stream",
     "text": [
      "Please enter integer numbers only.\n",
      "\n",
      "frist num is: 12\n",
      "second num is: 21\n",
      "The result is: 252\n",
      "\n"
     ]
    }
   ],
   "source": [
    "def mult(num1, num2):\n",
    "    return num1*num2\n",
    "\n",
    "while True:\n",
    "    try:\n",
    "        x= int(input(\"Please enter the fnum: \"))\n",
    "        y= int(input(\"Please enter the snum: \"))\n",
    "        break\n",
    "    except ValueError:\n",
    "        print(\"Please enter integer numbers only.\")\n",
    "\n",
    "result= mult(x, y)\n",
    "print(f\"\"\"\n",
    "frist num is: {x}\n",
    "second num is: {y}\n",
    "The result is: {result}\n",
    "\"\"\")\n"
   ]
  },
  {
   "cell_type": "code",
   "execution_count": 2,
   "id": "59a5b0f1",
   "metadata": {},
   "outputs": [
    {
     "name": "stdout",
     "output_type": "stream",
     "text": [
      "3 and 5\n",
      "5 and 7\n",
      "11 and 13\n",
      "17 and 19\n",
      "29 and 31\n",
      "41 and 43\n",
      "59 and 61\n",
      "71 and 73\n",
      "101 and 103\n",
      "107 and 109\n",
      "137 and 139\n",
      "149 and 151\n",
      "179 and 181\n",
      "191 and 193\n",
      "197 and 199\n",
      "227 and 229\n",
      "239 and 241\n",
      "269 and 271\n",
      "281 and 283\n",
      "311 and 313\n",
      "347 and 349\n",
      "419 and 421\n",
      "431 and 433\n",
      "461 and 463\n",
      "521 and 523\n",
      "569 and 571\n",
      "599 and 601\n",
      "617 and 619\n",
      "641 and 643\n",
      "659 and 661\n",
      "809 and 811\n",
      "821 and 823\n",
      "827 and 829\n",
      "857 and 859\n",
      "881 and 883\n"
     ]
    }
   ],
   "source": [
    "def prime(num):\n",
    "    if num <2:\n",
    "        return 0\n",
    "    for i in range (2, int(num**.5)+1):\n",
    "        if num % i ==0:\n",
    "            return 0\n",
    "    return 1\n",
    "\n",
    "def find(lim):\n",
    "    for i in range(2,lim):\n",
    "        if prime(i) and prime(i +2):\n",
    "            print(f\"{i} and {i+2}\")\n",
    "            \n",
    "\n",
    "find(1000)\n"
   ]
  },
  {
   "cell_type": "code",
   "execution_count": 3,
   "id": "98ed46bc",
   "metadata": {},
   "outputs": [
    {
     "name": "stdout",
     "output_type": "stream",
     "text": [
      "Prime factors of 58 are: [2, 29]\n"
     ]
    }
   ],
   "source": [
    "def prime_factors(num):\n",
    "    i=2\n",
    "    factors = []\n",
    "    while i<=num:\n",
    "        if num %i== 0:\n",
    "            factors.append(i)\n",
    "            num=num // i\n",
    "        else:\n",
    "            i+= 1\n",
    "    return factors\n",
    "\n",
    "number = 58\n",
    "result = prime_factors(number)\n",
    "print(f\"Prime factors of {number} are: {result}\")\n"
   ]
  },
  {
   "cell_type": "code",
   "execution_count": 4,
   "id": "89c3267d",
   "metadata": {},
   "outputs": [
    {
     "name": "stdout",
     "output_type": "stream",
     "text": [
      "The binary of 56 is: 111000\n"
     ]
    }
   ],
   "source": [
    "def print_binary(num):\n",
    "    binary = bin(num) [2:]\n",
    "    print(f\"The binary of {num} is: {binary}\")\n",
    "\n",
    "\n",
    "x = int(input(\"Enter a decimal number: \"))\n",
    "print_binary(x)\n"
   ]
  },
  {
   "cell_type": "code",
   "execution_count": 5,
   "id": "630b3962",
   "metadata": {},
   "outputs": [
    {
     "name": "stdout",
     "output_type": "stream",
     "text": [
      "6\n",
      "28\n"
     ]
    }
   ],
   "source": [
    "def perfectnum(limit):\n",
    "    for num in range(1, limit ):\n",
    "        x = 0\n",
    "        for i in range(1, num):\n",
    "            if num % i == 0:\n",
    "                x += i\n",
    "        if x == num:\n",
    "            print(num)\n",
    "\n",
    "perfectnum(100)\n"
   ]
  },
  {
   "cell_type": "code",
   "execution_count": null,
   "id": "374a6379",
   "metadata": {},
   "outputs": [],
   "source": []
  }
 ],
 "metadata": {
  "kernelspec": {
   "display_name": "base",
   "language": "python",
   "name": "python3"
  },
  "language_info": {
   "codemirror_mode": {
    "name": "ipython",
    "version": 3
   },
   "file_extension": ".py",
   "mimetype": "text/x-python",
   "name": "python",
   "nbconvert_exporter": "python",
   "pygments_lexer": "ipython3",
   "version": "3.12.4"
  }
 },
 "nbformat": 4,
 "nbformat_minor": 5
}
