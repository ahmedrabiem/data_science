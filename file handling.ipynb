{
 "cells": [
  {
   "cell_type": "markdown",
   "metadata": {},
   "source": [
    "##### \n",
    "##### -- File Handling --\n",
    "##### \n",
    "###### \"a\" Append  Open File For Appending Values, Create File If Not Exists\n",
    "###### \"r\" Read    [Default Value] Open File For Read and Give Error If File is Not Exists\n",
    "###### \"w\" Write   Open File For Writing, Create File If Not Exists\n",
    "###### \"x\" Create  Create File, Give Error If File Exists\n",
    "###### --------------------------------------------------##"
   ]
  },
  {
   "cell_type": "code",
   "execution_count": 40,
   "metadata": {},
   "outputs": [],
   "source": [
    "myfile = open(\"D:\\\\python pr\\\\a\")"
   ]
  },
  {
   "cell_type": "code",
   "execution_count": 41,
   "metadata": {},
   "outputs": [
    {
     "name": "stdout",
     "output_type": "stream",
     "text": [
      "<_io.TextIOWrapper name='D:\\\\python pr\\\\a' mode='r' encoding='cp1256'>\n",
      "D:\\python pr\\a\n",
      "cp1256\n"
     ]
    }
   ],
   "source": [
    "print(myfile)\n",
    "print(myfile.name)\n",
    "print(myfile.encoding)"
   ]
  },
  {
   "cell_type": "code",
   "execution_count": 42,
   "metadata": {},
   "outputs": [
    {
     "name": "stdout",
     "output_type": "stream",
     "text": [
      "1 Hello, world!\n",
      "2 Ahmed\n",
      "3 mohamed\n",
      "4 sayed\n",
      "5 hassan\n",
      "7 dsfd\n"
     ]
    }
   ],
   "source": [
    "myfile = open(\"D:\\\\python pr\\\\a\")\n",
    "\n",
    "print(myfile.read())"
   ]
  },
  {
   "cell_type": "code",
   "execution_count": 43,
   "metadata": {},
   "outputs": [
    {
     "name": "stdout",
     "output_type": "stream",
     "text": [
      "1 Hello, \n"
     ]
    }
   ],
   "source": [
    "myfile = open(\"D:\\\\python pr\\\\a\")\n",
    "print(myfile.read(9))"
   ]
  },
  {
   "cell_type": "code",
   "execution_count": 61,
   "metadata": {},
   "outputs": [
    {
     "name": "stdout",
     "output_type": "stream",
     "text": [
      "1 Hello, world!\n",
      "\n",
      "2 Ahmed\n",
      "\n"
     ]
    }
   ],
   "source": [
    "myfile = open(\"D:\\\\python pr\\\\a\")\n",
    "print(myfile.readline())\n",
    "print(myfile.readline())"
   ]
  },
  {
   "cell_type": "code",
   "execution_count": 45,
   "metadata": {},
   "outputs": [
    {
     "name": "stdout",
     "output_type": "stream",
     "text": [
      "['1 Hello, world!\\n', '2 Ahmed\\n', '3 mohamed\\n', '4 sayed\\n', '5 hassan\\n', '7 dsfd']\n",
      "<class 'list'>\n"
     ]
    }
   ],
   "source": [
    "myfile = open(\"D:\\\\python pr\\\\a\")\n",
    "print(myfile.readlines())\n",
    "print(type(myfile.readlines()))"
   ]
  },
  {
   "cell_type": "code",
   "execution_count": 46,
   "metadata": {},
   "outputs": [
    {
     "name": "stdout",
     "output_type": "stream",
     "text": [
      "1 Hello, world!\n",
      "\n",
      "2 Ahmed\n",
      "\n",
      "3 mohamed\n",
      "\n",
      "4 sayed\n",
      "\n",
      "5 hassan\n",
      "\n",
      "7 dsfd\n"
     ]
    }
   ],
   "source": [
    "myfile = open(\"D:\\\\python pr\\\\a\")\n",
    "for line in myfile:\n",
    "    print(line)"
   ]
  },
  {
   "cell_type": "code",
   "execution_count": 50,
   "metadata": {},
   "outputs": [
    {
     "name": "stdout",
     "output_type": "stream",
     "text": [
      "1 Hello, world!\n",
      "\n",
      "2 Ahmed\n",
      "\n",
      "3 mohamed\n",
      "\n",
      "4 sayed\n",
      "\n"
     ]
    }
   ],
   "source": [
    "myfile = open(\"D:\\\\python pr\\\\a\")\n",
    "for line in myfile:\n",
    "    print(line)\n",
    "    if line.startswith(\"4\"):\n",
    "        break\n",
    "    \n",
    "myfile.close()"
   ]
  },
  {
   "cell_type": "markdown",
   "metadata": {},
   "source": [
    "##### write and append in file"
   ]
  },
  {
   "cell_type": "code",
   "execution_count": 58,
   "metadata": {},
   "outputs": [
    {
     "data": {
      "text/plain": [
       "2"
      ]
     },
     "execution_count": 58,
     "metadata": {},
     "output_type": "execute_result"
    }
   ],
   "source": [
    "myfile = open(\"D:\\\\python pr\\\\ah\",\"w\") #=> انشاء ملف\n",
    "myfile.write(\"hello from PY\\n\")\n",
    "myfile.write(\"second\\n\")\n",
    "myfile.write(\"3\\n\")\n",
    "myfile.write(\"4\\n\")"
   ]
  },
  {
   "cell_type": "code",
   "execution_count": 59,
   "metadata": {},
   "outputs": [
    {
     "data": {
      "text/plain": [
       "14000"
      ]
     },
     "execution_count": 59,
     "metadata": {},
     "output_type": "execute_result"
    }
   ],
   "source": [
    "myfile = open(\"D:\\\\python pr\\\\ahmed\",\"w\") #=> انشاء ملف\n",
    "myfile.write(\"hello from PY\\n\"* 1000)"
   ]
  },
  {
   "cell_type": "code",
   "execution_count": 65,
   "metadata": {},
   "outputs": [],
   "source": [
    "mylist = [\"ahmed\\n\",\"sayed\\n\",\"rabie\\n\"]\n",
    "\n",
    "myfile = open(\"D:\\\\python pr\\\\ah\",\"w\")\n",
    "myfile.writelines(mylist)"
   ]
  },
  {
   "cell_type": "markdown",
   "metadata": {},
   "source": [
    "##### append => بضيف بس مش بمسح اللي ضفته قبل كدا"
   ]
  },
  {
   "cell_type": "code",
   "execution_count": null,
   "metadata": {},
   "outputs": [
    {
     "data": {
      "text/plain": [
       "8"
      ]
     },
     "execution_count": 67,
     "metadata": {},
     "output_type": "execute_result"
    }
   ],
   "source": [
    "myfile = open(\"D:\\\\python pr\\\\ah\",\"a\")\n",
    "myfile.write(\"ahmedksdhf\\n\\n\\n\")\n",
    "myfile.write(\"ahfdsagh\")\n"
   ]
  },
  {
   "cell_type": "code",
   "execution_count": null,
   "metadata": {},
   "outputs": [
    {
     "name": "stdout",
     "output_type": "stream",
     "text": [
      "10\n"
     ]
    }
   ],
   "source": [
    "myfile = open(\"D:\\\\python pr\\\\ah\",\"a\")\n",
    "myfile.truncate(10)\n",
    "print(myfile.tell())"
   ]
  },
  {
   "cell_type": "markdown",
   "metadata": {},
   "source": [
    "##### لو حابب تتعمق"
   ]
  },
  {
   "cell_type": "code",
   "execution_count": null,
   "metadata": {},
   "outputs": [],
   "source": [
    "# import os\n",
    "\n",
    "# # Main Current Working Directory\n",
    "# print(os.getcwd())\n",
    "\n",
    "# # Directory For The Opened File\n",
    "# print(os.path.dirname(os.path.abspath(__file__)))\n",
    "\n",
    "# # Change Current Working Directory\n",
    "# os.chdir(os.path.dirname(os.path.abspath(__file__)))\n",
    "\n",
    "# print(os.getcwd())\n",
    "\n",
    "# print(os.path.abspath(__file__))\n",
    "\n",
    "# file = open(r\"D:\\Python\\Files\\nfiles\\osama.txt\")\n",
    "\n",
    "# file = open(\"D:\\Python\\Files\\osama.txt\")"
   ]
  }
 ],
 "metadata": {
  "kernelspec": {
   "display_name": "Python 3",
   "language": "python",
   "name": "python3"
  },
  "language_info": {
   "codemirror_mode": {
    "name": "ipython",
    "version": 3
   },
   "file_extension": ".py",
   "mimetype": "text/x-python",
   "name": "python",
   "nbconvert_exporter": "python",
   "pygments_lexer": "ipython3",
   "version": "3.12.6"
  }
 },
 "nbformat": 4,
 "nbformat_minor": 2
}
