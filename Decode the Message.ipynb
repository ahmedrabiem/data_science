{
 "cells": [
  {
   "cell_type": "markdown",
   "id": "471780ca",
   "metadata": {},
   "source": [
    "## 🗂️ Task 1: Decode the Message\n",
    "\n",
    "### 🔐 **Encoded Message:###!!@mocleW EPGTQ!!!6789**"
   ]
  },
  {
   "cell_type": "code",
   "execution_count": 28,
   "id": "55fb15d2",
   "metadata": {},
   "outputs": [
    {
     "name": "stdout",
     "output_type": "stream",
     "text": [
      "mocleW EPGTQ\n",
      " Welcom\n",
      " EPGTQ\n",
      "=> Welcom EPGTQ\n"
     ]
    }
   ],
   "source": [
    "message = \"###!!@mocleW EPGTQ!!!6789\"\n",
    "slice1= message [6:18]\n",
    "print(slice1)\n",
    "\n",
    "fword= slice1[:7]\n",
    "revfword = fword[::-1]\n",
    "\n",
    "print(revfword)\n",
    "\n",
    "sword=slice1[6:]\n",
    "print(sword)\n",
    "\n",
    "print(f\"=>{revfword}{sword}\")"
   ]
  },
  {
   "cell_type": "code",
   "execution_count": 3,
   "id": "e637d542",
   "metadata": {},
   "outputs": [],
   "source": [
    "list1=[1,1,2,\"Dpi\",\"ahmed\",[11,12,[\"DL\"]]]"
   ]
  },
  {
   "cell_type": "code",
   "execution_count": 9,
   "id": "5b1fa671",
   "metadata": {},
   "outputs": [
    {
     "name": "stdout",
     "output_type": "stream",
     "text": [
      "<class 'list'>\n",
      "[1, 1, 2, 'Dpi', 'ahmed', [11, 12, ['Ahmed']]]\n"
     ]
    }
   ],
   "source": [
    "print(type(list1))\n",
    "list1[5][2][0]=\"Ahmed\"\n",
    "print(list1)"
   ]
  },
  {
   "cell_type": "code",
   "execution_count": 2,
   "id": "b66b67a7",
   "metadata": {},
   "outputs": [
    {
     "data": {
      "text/plain": [
       "['Ahmed', 'ass', 'sassd', 'sdsd']"
      ]
     },
     "execution_count": 2,
     "metadata": {},
     "output_type": "execute_result"
    }
   ],
   "source": [
    "lis=['Ahmed',\"ass\",\"sassd\"]\n",
    "lis.append(\"sdsd\")\n",
    "lis"
   ]
  },
  {
   "cell_type": "code",
   "execution_count": 3,
   "id": "9640238f",
   "metadata": {},
   "outputs": [],
   "source": [
    "import random\n",
    "def generat_pas(length):\n",
    "    characters = \"abcdefghijklmnopqrstuvwxyzABCDEFGHIJKLMNOPQRSTUVWXYZ1234567890!@#$%^&*\"\n",
    "    passw = \"\"\n",
    "    \n",
    "    for _ in range(lenth):\n",
    "        passw+=random.choice(characters)\n",
    "    return passw"
   ]
  },
  {
   "cell_type": "code",
   "execution_count": null,
   "id": "0b80e00f",
   "metadata": {},
   "outputs": [
    {
     "data": {
      "text/plain": [
       "25"
      ]
     },
     "execution_count": 5,
     "metadata": {},
     "output_type": "execute_result"
    }
   ],
   "source": [
    "def culc(a,b):\n",
    "    return a*b\n",
    "    \n",
    "x = int(input(\"PLS Enter Fnum: \"))\n",
    "y = int(input(\"PLS Enter Fnum: \"))\n",
    "culc(x,y)"
   ]
  },
  {
   "cell_type": "code",
   "execution_count": null,
   "id": "69f61369",
   "metadata": {},
   "outputs": [
    {
     "name": "stdout",
     "output_type": "stream",
     "text": [
      "\n",
      "the FNUM is : 23\n",
      "the SNUM is : 23\n",
      "he operation is : add\n",
      "The result is:, 46\n",
      "\n"
     ]
    }
   ],
   "source": [
    "def calc(a, b, operation):\n",
    "    if operation == \"add\":\n",
    "        return a+b\n",
    "    elif operation == \"subtract\":\n",
    "        return a-b\n",
    "    elif operation == \"multiply\":\n",
    "        return a*b\n",
    "    elif operation == \"divide\":\n",
    "        return a/b\n",
    "    else:\n",
    "        return \"NOt allowed\"\n",
    "\n",
    "x = int(input(\"Enter fnum: \"))\n",
    "y = int(input(\"Enter snum: \"))\n",
    "op = input(\"Enter operation (add, subtract, multiply, divide): \")\n",
    "\n",
    "result = calc(x, y, op)\n",
    "print(f\"\"\"\n",
    "the FNUM is : {x}\n",
    "the SNUM is : {y}\n",
    "he operation is : {op}\n",
    "The result is: {result}\n",
    "\"\"\")\n"
   ]
  },
  {
   "cell_type": "code",
   "execution_count": 14,
   "id": "51711c91",
   "metadata": {},
   "outputs": [],
   "source": [
    "class student:\n",
    "    name = \"Ahmed\"\n",
    "    age = 21\n",
    "    gpa = 3\n",
    "    gender = \"male\"\n",
    "    \n",
    "    def info(self):\n",
    "        \"\"\"\n",
    "        hthtd\n",
    "        \"\"\"\n",
    "        print(\"hello\")"
   ]
  },
  {
   "cell_type": "code",
   "execution_count": 15,
   "id": "279380eb",
   "metadata": {},
   "outputs": [
    {
     "name": "stdout",
     "output_type": "stream",
     "text": [
      "hello\n"
     ]
    }
   ],
   "source": [
    "s1 = student()\n",
    "s1.name=\"sayed\"\n",
    "s1.info()"
   ]
  },
  {
   "cell_type": "code",
   "execution_count": 17,
   "id": "1040d58d",
   "metadata": {},
   "outputs": [
    {
     "name": "stdout",
     "output_type": "stream",
     "text": [
      "<__main__.test object at 0x00000230181ED400>\n",
      "<__main__.test object at 0x00000230181ED400>\n"
     ]
    }
   ],
   "source": [
    "class test:\n",
    "    def info(self):\n",
    "        print(self)\n",
    "        \n",
    "x=test()\n",
    "print(x)\n",
    "x.info()"
   ]
  },
  {
   "cell_type": "code",
   "execution_count": 27,
   "id": "01cf657e",
   "metadata": {},
   "outputs": [
    {
     "name": "stdout",
     "output_type": "stream",
     "text": [
      "Ahmed\n"
     ]
    }
   ],
   "source": [
    "class std:\n",
    "    def __init__(self, name):\n",
    "        self.name = name\n",
    "        \n",
    "s1 = std(\"Ahmed\")\n",
    "print(s1.name)"
   ]
  },
  {
   "cell_type": "code",
   "execution_count": 36,
   "id": "4ff9a943",
   "metadata": {},
   "outputs": [
    {
     "name": "stdout",
     "output_type": "stream",
     "text": [
      "25\n",
      "46\n",
      "21\n",
      "11.5\n"
     ]
    }
   ],
   "source": [
    "class calc:\n",
    "    def __init__(self,num1 ,num2):\n",
    "        self.num1 = num1\n",
    "        self.num2 = num2\n",
    "        \n",
    "    def add(self):\n",
    "       return self.num1 +self.num2\n",
    "    def sub(self):\n",
    "       return self.num1 -self.num2\n",
    "    def mul(self):\n",
    "       return self.num1 *self.num2\n",
    "    def div(self):\n",
    "       return self.num1 /self.num2\n",
    "    \n",
    "x = int(input(\"enter fnum :\"))\n",
    "y = int(input(\"enter snum :\"))\n",
    "c1 = calc(x,y)\n",
    "print(c1.add())\n",
    "print(c1.mul())\n",
    "print(c1.sub())\n",
    "print(c1.div())\n"
   ]
  },
  {
   "cell_type": "code",
   "execution_count": null,
   "id": "b0dc931c",
   "metadata": {},
   "outputs": [],
   "source": [
    "from abc import ABC, abstractmethod\n",
    "\n",
    "class Animal(ABC):\n",
    "    @abstractmethod\n",
    "    def move(self):\n",
    "        pass\n",
    "    \n",
    "class bird(Animal):\n",
    "    def move(self):\n",
    "        print(\"Move from bied\")\n",
    "            \n",
    "class cat (Animal):\n",
    "    def move(self):\n",
    "        print(\"move from cat\")"
   ]
  },
  {
   "cell_type": "code",
   "execution_count": null,
   "id": "4ed61e8b",
   "metadata": {},
   "outputs": [
    {
     "ename": "NameError",
     "evalue": "name 'self' is not defined",
     "output_type": "error",
     "traceback": [
      "\u001b[1;31m---------------------------------------------------------------------------\u001b[0m",
      "\u001b[1;31mNameError\u001b[0m                                 Traceback (most recent call last)",
      "Cell \u001b[1;32mIn[42], line 2\u001b[0m\n\u001b[0;32m      1\u001b[0m a\u001b[38;5;241m=\u001b[39m bird\n\u001b[1;32m----> 2\u001b[0m a\u001b[38;5;241m.\u001b[39mmove(\u001b[38;5;28;43mself\u001b[39;49m)\n",
      "\u001b[1;31mNameError\u001b[0m: name 'self' is not defined"
     ]
    }
   ],
   "source": [
    "a= bird\n",
    "a.move()"
   ]
  },
  {
   "cell_type": "code",
   "execution_count": null,
   "id": "d9c606ea",
   "metadata": {},
   "outputs": [],
   "source": [
    "class car:\n",
    "    __engin_capacity =\"2000cc\"\n",
    "    def __start_engine(self):\n",
    "        print(\"engine started\")"
   ]
  },
  {
   "cell_type": "code",
   "execution_count": null,
   "id": "8271b5bb",
   "metadata": {},
   "outputs": [],
   "source": [
    "c1 "
   ]
  },
  {
   "cell_type": "code",
   "execution_count": 8,
   "id": "790b023d",
   "metadata": {},
   "outputs": [
    {
     "name": "stdout",
     "output_type": "stream",
     "text": [
      "12\n"
     ]
    }
   ],
   "source": [
    "def mult (num1 , num2):\n",
    "    return num1 * num2\n",
    "\n",
    "x = int(input(\"Pls enter fnum : \"))\n",
    "y = int(input(\"Pls enter fnum : \"))\n",
    "\n",
    "print(mult(x,y))"
   ]
  },
  {
   "cell_type": "code",
   "execution_count": 34,
   "id": "2bd8f958",
   "metadata": {},
   "outputs": [
    {
     "name": "stdout",
     "output_type": "stream",
     "text": [
      "\n",
      "frist num is: 23\n",
      "second num is: 32\n",
      "The result is: 736\n",
      "\n"
     ]
    }
   ],
   "source": [
    "def mult(num1, num2):\n",
    "    return num1*num2\n",
    "\n",
    "while True:\n",
    "    try:\n",
    "        x= int(input(\"Please enter the fnum: \"))\n",
    "        y= int(input(\"Please enter the snum: \"))\n",
    "        break\n",
    "    except ValueError:\n",
    "        print(\"Please enter integer numbers only.\")\n",
    "\n",
    "result= mult(x, y)\n",
    "print(f\"\"\"\n",
    "frist num is: {x}\n",
    "second num is: {y}\n",
    "The result is: {result}\n",
    "\"\"\")\n"
   ]
  },
  {
   "cell_type": "code",
   "execution_count": 16,
   "id": "516dfa56",
   "metadata": {},
   "outputs": [
    {
     "name": "stdout",
     "output_type": "stream",
     "text": [
      "3 and 5\n",
      "5 and 7\n",
      "11 and 13\n",
      "17 and 19\n",
      "29 and 31\n",
      "41 and 43\n",
      "59 and 61\n",
      "71 and 73\n",
      "101 and 103\n",
      "107 and 109\n",
      "137 and 139\n",
      "149 and 151\n",
      "179 and 181\n",
      "191 and 193\n",
      "197 and 199\n",
      "227 and 229\n",
      "239 and 241\n",
      "269 and 271\n",
      "281 and 283\n",
      "311 and 313\n",
      "347 and 349\n",
      "419 and 421\n",
      "431 and 433\n",
      "461 and 463\n",
      "521 and 523\n",
      "569 and 571\n",
      "599 and 601\n",
      "617 and 619\n",
      "641 and 643\n",
      "659 and 661\n",
      "809 and 811\n",
      "821 and 823\n",
      "827 and 829\n",
      "857 and 859\n",
      "881 and 883\n"
     ]
    }
   ],
   "source": [
    "def prime(num):\n",
    "    if num <2:\n",
    "        return 0\n",
    "    for i in range (2, int(num**.5)+1):\n",
    "        if num % i ==0:\n",
    "            return 0\n",
    "    return 1\n",
    "\n",
    "def find(lim):\n",
    "    for i in range(2,lim):\n",
    "        if prime(i) and prime(i +2):\n",
    "            print(f\"{i} and {i+2}\")\n",
    "            \n",
    "\n",
    "find(1000)\n"
   ]
  },
  {
   "cell_type": "code",
   "execution_count": 23,
   "id": "5f277195",
   "metadata": {},
   "outputs": [
    {
     "name": "stdout",
     "output_type": "stream",
     "text": [
      "Prime factors of 58 are: [2, 29]\n"
     ]
    }
   ],
   "source": [
    "def prime_factors(num):\n",
    "    i=2\n",
    "    factors = []\n",
    "    while i<=num:\n",
    "        if num %i== 0:\n",
    "            factors.append(i)\n",
    "            num=num // i\n",
    "        else:\n",
    "            i+= 1\n",
    "    return factors\n",
    "\n",
    "number = 58\n",
    "result = prime_factors(number)\n",
    "print(f\"Prime factors of {number} are: {result}\")\n"
   ]
  },
  {
   "cell_type": "code",
   "execution_count": 30,
   "id": "824f7600",
   "metadata": {},
   "outputs": [
    {
     "name": "stdout",
     "output_type": "stream",
     "text": [
      "The binary of 234 is: 11101010\n"
     ]
    }
   ],
   "source": [
    "def print_binary(num):\n",
    "    binary = bin(num) [2:]\n",
    "    print(f\"The binary of {num} is: {binary}\")\n",
    "\n",
    "\n",
    "x = int(input(\"Enter a decimal number: \"))\n",
    "print_binary(x)\n"
   ]
  },
  {
   "cell_type": "code",
   "execution_count": 37,
   "id": "be736611",
   "metadata": {},
   "outputs": [
    {
     "name": "stdout",
     "output_type": "stream",
     "text": [
      "6\n",
      "28\n"
     ]
    }
   ],
   "source": [
    "def perfectnum(limit):\n",
    "    for num in range(1, limit ):\n",
    "        x = 0\n",
    "        for i in range(1, num):\n",
    "            if num % i == 0:\n",
    "                x += i\n",
    "        if x == num:\n",
    "            print(num)\n",
    "\n",
    "perfectnum(100)\n"
   ]
  },
  {
   "cell_type": "code",
   "execution_count": null,
   "id": "d1452e26",
   "metadata": {},
   "outputs": [],
   "source": []
  }
 ],
 "metadata": {
  "kernelspec": {
   "display_name": "base",
   "language": "python",
   "name": "python3"
  },
  "language_info": {
   "codemirror_mode": {
    "name": "ipython",
    "version": 3
   },
   "file_extension": ".py",
   "mimetype": "text/x-python",
   "name": "python",
   "nbconvert_exporter": "python",
   "pygments_lexer": "ipython3",
   "version": "3.12.4"
  }
 },
 "nbformat": 4,
 "nbformat_minor": 5
}
